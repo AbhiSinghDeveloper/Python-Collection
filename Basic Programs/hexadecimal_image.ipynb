{
  "nbformat": 4,
  "nbformat_minor": 0,
  "metadata": {
    "colab": {
      "name": "hexadecimal_image.ipynb",
      "provenance": []
    },
    "kernelspec": {
      "name": "python3",
      "display_name": "Python 3"
    }
  },
  "cells": [
    {
      "cell_type": "code",
      "metadata": {
        "id": "hDzq2lMMEOg1"
      },
      "source": [
        "import binascii\n",
        "\n",
        "#Image import\n",
        "filename = 'Enter the path of the image file'\n",
        "\n",
        "with open(filename, 'rb') as f:\n",
        "    content = f.read()"
      ],
      "execution_count": null,
      "outputs": []
    },
    {
      "cell_type": "code",
      "metadata": {
        "id": "ZRlg6-BpETG1"
      },
      "source": [
        "print(content)"
      ],
      "execution_count": null,
      "outputs": []
    },
    {
      "cell_type": "code",
      "metadata": {
        "id": "Bnso6ZI2ETJa"
      },
      "source": [
        "img_hexa = binascii.hexlify(content)\n",
        "img_hexa_2 = binascii.hexlify(content)\n",
        "img_hexa = str(img_hexa)\n",
        "\n",
        "print(img_hexa[1::])"
      ],
      "execution_count": null,
      "outputs": []
    },
    {
      "cell_type": "code",
      "metadata": {
        "id": "kjyRZhbNETL9"
      },
      "source": [
        "#Recording\n",
        "with open('Hexa_image.txt', 'w') as text_hexa:\n",
        "   text_hexa.write(img_hexa[1::])"
      ],
      "execution_count": null,
      "outputs": []
    },
    {
      "cell_type": "code",
      "metadata": {
        "id": "NbpPlvplETOX"
      },
      "source": [
        "img_hexa_2 = binascii.a2b_hex(img_hexa_2)\n",
        "print(img_hexa_2)"
      ],
      "execution_count": null,
      "outputs": []
    },
    {
      "cell_type": "code",
      "metadata": {
        "id": "OJ7524pMETXY"
      },
      "source": [
        "#Recording the image\n",
        "with open('image.jpeg', 'wb') as img:\n",
        "  img.write(img_hexa_2)"
      ],
      "execution_count": null,
      "outputs": []
    }
  ]
}